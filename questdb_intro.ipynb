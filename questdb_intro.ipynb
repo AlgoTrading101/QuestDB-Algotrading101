{
 "cells": [
  {
   "cell_type": "code",
   "execution_count": null,
   "metadata": {},
   "outputs": [],
   "source": [
    "pip install influx_line_protocol\n",
    "pip install pycoingecko"
   ]
  },
  {
   "cell_type": "code",
   "execution_count": null,
   "metadata": {},
   "outputs": [],
   "source": [
    "import requests\n",
    "import pandas as pd\n",
    "from pycoingecko import CoinGeckoAPI\n",
    "\n",
    "cg = CoinGeckoAPI()"
   ]
  },
  {
   "cell_type": "markdown",
   "metadata": {},
   "source": [
    "## Create table"
   ]
  },
  {
   "cell_type": "code",
   "execution_count": null,
   "metadata": {},
   "outputs": [],
   "source": [
    "q = 'create table crypto_prices'\\\n",
    "    '(timestamp timestamp,'\\\n",
    "    'BTC double,'\\\n",
    "    'ETH double,'\\\n",
    "    'LUNA double)'\n",
    "\n",
    "r = requests.get(\"http://localhost:9000/exec?query=\" + q)\n",
    "print(r.status_code)"
   ]
  },
  {
   "cell_type": "markdown",
   "metadata": {},
   "source": [
    "## Pull Data and insert into table"
   ]
  },
  {
   "cell_type": "code",
   "execution_count": null,
   "metadata": {},
   "outputs": [],
   "source": [
    "prices = cg.get_price(ids=['bitcoin', 'ethereum','terra-luna'], vs_currencies='usd')\n",
    "prices"
   ]
  },
  {
   "cell_type": "code",
   "execution_count": null,
   "metadata": {},
   "outputs": [],
   "source": [
    "import psycopg2\n",
    "\n",
    "try:\n",
    "    connection = psycopg2.connect(user=\"admin\",\n",
    "                                  password=\"quest\",\n",
    "                                  host=\"127.0.0.1\",\n",
    "                                  port=\"8812\",\n",
    "                                  database=\"qdb\")\n",
    "\n",
    "    cursor = connection.cursor()\n",
    "    print('Connection established.')\n",
    "\n",
    "    for i in range(30):\n",
    "        # Obtain price data\n",
    "        prices = cg.get_price(ids=['bitcoin', 'ethereum','terra-luna'], vs_currencies='usd')\n",
    "\n",
    "        # Insert price data\n",
    "        cursor.execute(f\"\"\"\n",
    "            INSERT INTO crypto_prices\n",
    "            VALUES (\n",
    "                systimestamp(),\n",
    "                {float(prices['bitcoin']['usd'])},\n",
    "                {float(prices['ethereum']['usd'])},\n",
    "                {float(prices['terra-luna']['usd'])}\n",
    "                );\n",
    "            \"\"\")\n",
    "\n",
    "        sleep(3)\n",
    "\n",
    "    # Commit records\n",
    "    connection.commit()\n",
    "\n",
    "except (Exception, psycopg2.Error) as error:\n",
    "    print(\"Error while connecting to PostgreSQL\", error)\n",
    "finally:\n",
    "    # Closing database connection.\n",
    "    if (connection):\n",
    "        cursor.close()\n",
    "        connection.close()\n",
    "        print(\"PostgreSQL connection is closed\")"
   ]
  },
  {
   "cell_type": "markdown",
   "metadata": {},
   "source": [
    "## Query Data"
   ]
  },
  {
   "cell_type": "code",
   "execution_count": null,
   "metadata": {},
   "outputs": [],
   "source": [
    "import io\n",
    "\n",
    "r = requests.get(\"http://localhost:9000/exp?query=select * from  crypto_prices\")\n",
    "df = pd.read_csv(io.StringIO(r.text), parse_dates=['timestamp'], index_col='timestamp')\n",
    "\n",
    "df.head()"
   ]
  },
  {
   "cell_type": "code",
   "execution_count": null,
   "metadata": {},
   "outputs": [],
   "source": [
    "df['ETH'].plot()"
   ]
  },
  {
   "cell_type": "markdown",
   "metadata": {},
   "source": [
    "## Delete Table"
   ]
  },
  {
   "cell_type": "code",
   "execution_count": null,
   "metadata": {},
   "outputs": [],
   "source": [
    "r = requests.get(\"http://localhost:9000/exec?query=drop table crypto_prices\")"
   ]
  }
 ],
 "metadata": {
  "interpreter": {
   "hash": "c16b52916a67f20a07722e9bde19dede31c91317fbebc150a4d0df9e8bf7f16f"
  },
  "kernelspec": {
   "display_name": "Python 3.8.8 ('newenvt')",
   "language": "python",
   "name": "python3"
  },
  "language_info": {
   "codemirror_mode": {
    "name": "ipython",
    "version": 3
   },
   "file_extension": ".py",
   "mimetype": "text/x-python",
   "name": "python",
   "nbconvert_exporter": "python",
   "pygments_lexer": "ipython3",
   "version": "3.8.8"
  },
  "orig_nbformat": 4
 },
 "nbformat": 4,
 "nbformat_minor": 2
}
